{
 "cells": [
  {
   "cell_type": "code",
   "execution_count": 1,
   "id": "6e9a820f-b4dd-4ef7-8bb7-4e5d9f6c4077",
   "metadata": {},
   "outputs": [],
   "source": [
    "import pandas as pd"
   ]
  },
  {
   "cell_type": "code",
   "execution_count": 2,
   "id": "1b52bf22-3001-4b90-8531-790f9b4422ef",
   "metadata": {},
   "outputs": [],
   "source": [
    "def tail_last_line(file_path):\n",
    "    \"\"\"Extract progress and error info from log file.\"\"\"\n",
    "    try:\n",
    "        with open(file_path, 'r', errors=\"ignore\") as f:\n",
    "            valid = f.read().split(\"\\n\")\n",
    "        valid_lines = [x.split(\"Working on Match\")[-1].strip(\" \").strip(\".\") \n",
    "                       for x in valid if \"Working on Match\" in x]\n",
    "        error_lines = [x.split(\"INFO: Type     :\")[-1].strip(\" \") \n",
    "                       for x in valid if \"INFO: Type     :\" in x] + \\\n",
    "                      [x.split(\"Type         =>\")[-1].strip(\" \") \n",
    "                       for x in valid if \"Type         =>\" in x]\n",
    "        valid_last = valid_lines[-1] if valid_lines else \"0/1\"\n",
    "        error_last = error_lines[-1] if error_lines else \"\"\n",
    "        return valid_last, error_last,error_lines\n",
    "    except Exception:\n",
    "        return \"0/1\", \"\""
   ]
  },
  {
   "cell_type": "code",
   "execution_count": 8,
   "id": "ab9f6d3c-2810-414d-bf93-402fd0c1b315",
   "metadata": {},
   "outputs": [],
   "source": [
    "temp_dir = r\"D:\\runtime_logs\"\n",
    "df_data = []\n",
    "for filename in os.listdir(temp_dir):\n",
    "    filepath = os.path.join(temp_dir, filename)\n",
    "    if os.path.isfile(filepath):\n",
    "        valid, err, err_data = tail_last_line(filepath)\n",
    "        done, total = [int(x) for x in valid.split(\"/\")]\n",
    "        comp,season_name = [x for x in filepath.split(\"_-_\")][:2]\n",
    "        temp = {}\n",
    "        temp['competetion'] = comp.replace(\"_\",\" \").split(\"\\\\\")[-1]\n",
    "        temp['season'] = season_name.replace(\"_\",\"/\")\n",
    "        temp['total_matches'] = total\n",
    "        temp['success_matches'] = done\n",
    "        temp['error_matches'] = len(err_data)\n",
    "        temp['error_msg'] = \", \".join(set(err_data))\n",
    "        df_data.append(temp)"
   ]
  },
  {
   "cell_type": "code",
   "execution_count": 9,
   "id": "81dec041-b1a1-49d5-8983-a3d3f302767e",
   "metadata": {},
   "outputs": [],
   "source": [
    "df = pd.DataFrame(df_data)\n",
    "df.to_excel(\"Second Exec Run.xlsx\",index=False)"
   ]
  },
  {
   "cell_type": "code",
   "execution_count": null,
   "id": "3b629675-0a2e-4fa7-84b9-645115a570f4",
   "metadata": {},
   "outputs": [],
   "source": []
  }
 ],
 "metadata": {
  "kernelspec": {
   "display_name": "Python 3 (ipykernel)",
   "language": "python",
   "name": "python3"
  },
  "language_info": {
   "codemirror_mode": {
    "name": "ipython",
    "version": 3
   },
   "file_extension": ".py",
   "mimetype": "text/x-python",
   "name": "python",
   "nbconvert_exporter": "python",
   "pygments_lexer": "ipython3",
   "version": "3.11.9"
  }
 },
 "nbformat": 4,
 "nbformat_minor": 5
}
