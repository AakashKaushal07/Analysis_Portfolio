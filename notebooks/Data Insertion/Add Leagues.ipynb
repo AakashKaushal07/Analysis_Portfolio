{
 "cells": [
  {
   "cell_type": "code",
   "execution_count": 11,
   "id": "dff88f49-8193-4278-bd47-eccd50e51866",
   "metadata": {},
   "outputs": [],
   "source": [
    "from leagues.models import Competition"
   ]
  },
  {
   "cell_type": "code",
   "execution_count": 12,
   "id": "657e2a46-0a90-49dc-9c54-927c935247c0",
   "metadata": {},
   "outputs": [],
   "source": [
    "import pandas as pd"
   ]
  },
  {
   "cell_type": "code",
   "execution_count": 14,
   "id": "33a50615-c3ce-4531-a32c-6b7f8aef27a8",
   "metadata": {},
   "outputs": [],
   "source": [
    "df = pd.read_csv(r\"D:\\research_locale\\New folder\\available_data_source.csv\")"
   ]
  },
  {
   "cell_type": "code",
   "execution_count": 15,
   "id": "540be9a3-035e-49f2-a850-40777756af8a",
   "metadata": {},
   "outputs": [],
   "source": [
    "df['Shot'] = [True if x == \"Y\" else False for x in df['Shot']]\n",
    "df['Event'] = [True if x == \"Y\" else False for x in df['Event']]"
   ]
  },
  {
   "cell_type": "code",
   "execution_count": 16,
   "id": "1afffab3-4c24-4f6c-b379-f7c438d92606",
   "metadata": {},
   "outputs": [],
   "source": [
    "for index, row in df.iterrows():\n",
    "    Competition.objects.create(\n",
    "        confederation=row['Confederation'],\n",
    "        country=row['Country'],\n",
    "        competition_name=row['Competition'],\n",
    "        competition_format=row['Format'],\n",
    "        competition_type=row['Type'],\n",
    "        event_data_available=row['Event'],\n",
    "        shot_data_available=row['Shot'],\n",
    "        season_start=row['Season Start'],\n",
    "        season_end=row['Season End']\n",
    "    )"
   ]
  },
  {
   "cell_type": "code",
   "execution_count": null,
   "id": "7f95f9a7-f70c-49d0-902e-20e930f31088",
   "metadata": {},
   "outputs": [],
   "source": []
  }
 ],
 "metadata": {
  "kernelspec": {
   "display_name": "Django Notebook",
   "language": "python",
   "name": "django_env"
  },
  "language_info": {
   "codemirror_mode": {
    "name": "ipython",
    "version": 3
   },
   "file_extension": ".py",
   "mimetype": "text/x-python",
   "name": "python",
   "nbconvert_exporter": "python",
   "pygments_lexer": "ipython3",
   "version": "3.10.11"
  }
 },
 "nbformat": 4,
 "nbformat_minor": 5
}
