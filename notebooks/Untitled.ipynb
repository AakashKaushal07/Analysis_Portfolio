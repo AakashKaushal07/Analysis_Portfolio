{
 "cells": [
  {
   "cell_type": "code",
   "execution_count": 16,
   "id": "731819f7-99c4-4170-a6e7-35b14c54c486",
   "metadata": {},
   "outputs": [],
   "source": [
    "from base_app.helpers import get_name_mappings\n",
    "from django.db.models import Q\n",
    "from base_app.models import ConfigItems\n",
    "from leagues.models import Competition, Season\n",
    "import pandas as pd\n"
   ]
  },
  {
   "cell_type": "code",
   "execution_count": 6,
   "id": "1800b573-64e0-4a72-81e4-90fbaad109a1",
   "metadata": {
    "scrolled": true
   },
   "outputs": [],
   "source": [
    "count_league_to_name_mapping = get_name_mappings(source='sa',target='n',source_as_file_names=True,use_with_region_names=True)"
   ]
  },
  {
   "cell_type": "code",
   "execution_count": 3,
   "id": "45dc0bf1-1c4a-48f9-ac32-584474cfc85b",
   "metadata": {},
   "outputs": [],
   "source": []
  },
  {
   "cell_type": "code",
   "execution_count": 4,
   "id": "b8189777-0782-455d-959e-93c4a4f5529b",
   "metadata": {},
   "outputs": [],
   "source": [
    "df = pd.read_excel(\"Retry_Items.xlsx\")"
   ]
  },
  {
   "cell_type": "code",
   "execution_count": 13,
   "id": "45440192-7621-444c-be8c-91766bfd7285",
   "metadata": {
    "scrolled": true
   },
   "outputs": [],
   "source": [
    "c = []\n",
    "for i,row in df.iterrows() :\n",
    "    search_string = f\"{row['region']}|{row['competition']}\"\n",
    "    existing_alt = row['competition_alt']\n",
    "    found = count_league_to_name_mapping.get(search_string)\n",
    "    if existing_alt != found :\n",
    "        df.loc[i,'competition_alt']=found"
   ]
  },
  {
   "cell_type": "code",
   "execution_count": 15,
   "id": "b0b596fc-cd46-4b49-9907-97be751c733d",
   "metadata": {},
   "outputs": [],
   "source": [
    "df.to_excel(\"Updated_Retry_items.xlsx\")"
   ]
  },
  {
   "cell_type": "code",
   "execution_count": 19,
   "id": "d9a79211-f1b4-4198-b207-b215ada18996",
   "metadata": {},
   "outputs": [
    {
     "data": {
      "text/html": [
       "<div>\n",
       "<style scoped>\n",
       "    .dataframe tbody tr th:only-of-type {\n",
       "        vertical-align: middle;\n",
       "    }\n",
       "\n",
       "    .dataframe tbody tr th {\n",
       "        vertical-align: top;\n",
       "    }\n",
       "\n",
       "    .dataframe thead th {\n",
       "        text-align: right;\n",
       "    }\n",
       "</style>\n",
       "<table border=\"1\" class=\"dataframe\">\n",
       "  <thead>\n",
       "    <tr style=\"text-align: right;\">\n",
       "      <th></th>\n",
       "      <th>batch_x</th>\n",
       "      <th>confederation</th>\n",
       "      <th>region</th>\n",
       "      <th>competition</th>\n",
       "      <th>season</th>\n",
       "      <th>type</th>\n",
       "      <th>matches</th>\n",
       "      <th>team_counts</th>\n",
       "      <th>batch_y</th>\n",
       "      <th>fixture_count</th>\n",
       "      <th>competition_alt</th>\n",
       "      <th>diff</th>\n",
       "    </tr>\n",
       "  </thead>\n",
       "  <tbody>\n",
       "    <tr>\n",
       "      <th>0</th>\n",
       "      <td>B6</td>\n",
       "      <td>AFC</td>\n",
       "      <td>AFC</td>\n",
       "      <td>AFC Champions League Elite</td>\n",
       "      <td>2022</td>\n",
       "      <td>events</td>\n",
       "      <td>127</td>\n",
       "      <td>46</td>\n",
       "      <td>B1</td>\n",
       "      <td>137.0</td>\n",
       "      <td>AFC Champions League</td>\n",
       "      <td>10.0</td>\n",
       "    </tr>\n",
       "    <tr>\n",
       "      <th>1</th>\n",
       "      <td>B6</td>\n",
       "      <td>AFC</td>\n",
       "      <td>AFC</td>\n",
       "      <td>AFC Champions League Two</td>\n",
       "      <td>2019</td>\n",
       "      <td>events</td>\n",
       "      <td>104</td>\n",
       "      <td>37</td>\n",
       "      <td>B1</td>\n",
       "      <td>141.0</td>\n",
       "      <td>AFC Champions League 2</td>\n",
       "      <td>37.0</td>\n",
       "    </tr>\n",
       "    <tr>\n",
       "      <th>2</th>\n",
       "      <td>B6</td>\n",
       "      <td>AFC</td>\n",
       "      <td>AFC</td>\n",
       "      <td>AFC Champions League Two</td>\n",
       "      <td>2024/2025</td>\n",
       "      <td>events</td>\n",
       "      <td>73</td>\n",
       "      <td>31</td>\n",
       "      <td>NaN</td>\n",
       "      <td>NaN</td>\n",
       "      <td>AFC Champions League 2</td>\n",
       "      <td>NaN</td>\n",
       "    </tr>\n",
       "    <tr>\n",
       "      <th>3</th>\n",
       "      <td>B6</td>\n",
       "      <td>AFC</td>\n",
       "      <td>Australia</td>\n",
       "      <td>A-League Men</td>\n",
       "      <td>2018/2019</td>\n",
       "      <td>events</td>\n",
       "      <td>129</td>\n",
       "      <td>10</td>\n",
       "      <td>B1</td>\n",
       "      <td>140.0</td>\n",
       "      <td>A-League</td>\n",
       "      <td>11.0</td>\n",
       "    </tr>\n",
       "    <tr>\n",
       "      <th>4</th>\n",
       "      <td>B6</td>\n",
       "      <td>AFC</td>\n",
       "      <td>Australia</td>\n",
       "      <td>A-League Men</td>\n",
       "      <td>2024/2025</td>\n",
       "      <td>events</td>\n",
       "      <td>176</td>\n",
       "      <td>13</td>\n",
       "      <td>NaN</td>\n",
       "      <td>NaN</td>\n",
       "      <td>A-League</td>\n",
       "      <td>NaN</td>\n",
       "    </tr>\n",
       "  </tbody>\n",
       "</table>\n",
       "</div>"
      ],
      "text/plain": [
       "  batch_x confederation     region                 competition     season  \\\n",
       "0      B6           AFC        AFC  AFC Champions League Elite       2022   \n",
       "1      B6           AFC        AFC    AFC Champions League Two       2019   \n",
       "2      B6           AFC        AFC    AFC Champions League Two  2024/2025   \n",
       "3      B6           AFC  Australia                A-League Men  2018/2019   \n",
       "4      B6           AFC  Australia                A-League Men  2024/2025   \n",
       "\n",
       "     type  matches  team_counts batch_y  fixture_count  \\\n",
       "0  events      127           46      B1          137.0   \n",
       "1  events      104           37      B1          141.0   \n",
       "2  events       73           31     NaN            NaN   \n",
       "3  events      129           10      B1          140.0   \n",
       "4  events      176           13     NaN            NaN   \n",
       "\n",
       "          competition_alt  diff  \n",
       "0    AFC Champions League  10.0  \n",
       "1  AFC Champions League 2  37.0  \n",
       "2  AFC Champions League 2   NaN  \n",
       "3                A-League  11.0  \n",
       "4                A-League   NaN  "
      ]
     },
     "execution_count": 19,
     "metadata": {},
     "output_type": "execute_result"
    }
   ],
   "source": [
    "df.head()"
   ]
  },
  {
   "cell_type": "code",
   "execution_count": 32,
   "id": "ba4eb924-070c-48a8-8e0d-24908336a7dc",
   "metadata": {},
   "outputs": [
    {
     "name": "stdout",
     "output_type": "stream",
     "text": [
      "30 2 batch_x                   B6\n",
      "confederation       CONCACAF\n",
      "region                Mexico\n",
      "competition          Liga MX\n",
      "season             2024/2025\n",
      "type                  events\n",
      "matches                   35\n",
      "team_counts               15\n",
      "batch_y                  NaN\n",
      "fixture_count            NaN\n",
      "competition_alt      Liga MX\n",
      "diff                     NaN\n",
      "Name: 30, dtype: object\n",
      "\n",
      "-------\n"
     ]
    },
    {
     "data": {
      "text/plain": [
       "(253, (252, 12))"
      ]
     },
     "execution_count": 32,
     "metadata": {},
     "output_type": "execute_result"
    }
   ],
   "source": [
    "q = Q()\n",
    "for i, row in df.iterrows():\n",
    "    q1 = (\n",
    "        Q(competition__confederation=row[\"confederation\"], competition__country=row[\"region\"],competition__competition_name=row['competition_alt']) &\n",
    "        (Q(name=row[\"season\"]) | Q(name_fotmob=row[\"season\"]))\n",
    "    )\n",
    "    q |= q1\n",
    "    p = Season.objects.filter(q1)\n",
    "    if len(p)!=1 :\n",
    "        print(i,len(p),row)\n",
    "        print()\n",
    "        print(\"-------\")\n",
    "qs = Season.objects.select_related(\"competition\").filter(q)\n",
    "len(qs),df.shape"
   ]
  },
  {
   "cell_type": "code",
   "execution_count": 26,
   "id": "e5a6a86e-9801-4209-8cc6-678365ed053f",
   "metadata": {},
   "outputs": [
    {
     "data": {
      "text/plain": [
       "dict_keys(['_state', 'id', 'competition_id', 'name', 'name_fotmob', 'season_event_url', 'season_shot_url'])"
      ]
     },
     "execution_count": 26,
     "metadata": {},
     "output_type": "execute_result"
    }
   ],
   "source": [
    "Season.objects.filter()[0].__dict__"
   ]
  },
  {
   "cell_type": "code",
   "execution_count": null,
   "id": "011880c4-e56b-4aac-a6e9-3f3814cd4271",
   "metadata": {},
   "outputs": [],
   "source": []
  }
 ],
 "metadata": {
  "kernelspec": {
   "display_name": "Python 3 (ipykernel)",
   "language": "python",
   "name": "python3"
  },
  "language_info": {
   "codemirror_mode": {
    "name": "ipython",
    "version": 3
   },
   "file_extension": ".py",
   "mimetype": "text/x-python",
   "name": "python",
   "nbconvert_exporter": "python",
   "pygments_lexer": "ipython3",
   "version": "3.11.9"
  }
 },
 "nbformat": 4,
 "nbformat_minor": 5
}
