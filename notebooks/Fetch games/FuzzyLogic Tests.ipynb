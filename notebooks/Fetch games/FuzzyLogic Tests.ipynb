{
 "cells": [
  {
   "cell_type": "code",
   "execution_count": null,
   "id": "45b0c9cf-b1e2-4a62-a802-baea2c9d850a",
   "metadata": {},
   "outputs": [],
   "source": [
    "%pip install matplotlib"
   ]
  },
  {
   "cell_type": "code",
   "execution_count": 33,
   "id": "9dedc682-180b-4ff3-a66e-13a2be1ecf20",
   "metadata": {},
   "outputs": [],
   "source": [
    "from fuzzywuzzy import fuzz, process\n",
    "import pandas as pd\n",
    "import matplotlib.pyplot as plt\n",
    "from unidecode import unidecode"
   ]
  },
  {
   "cell_type": "code",
   "execution_count": null,
   "id": "52974031-e090-4287-845a-a8377274aec3",
   "metadata": {},
   "outputs": [],
   "source": [
    "df_event = pd.read_excel(\"ISL_Sample.xlsx\")\n",
    "# basis = set(df_shots['home_team'].unique().tolist()+df_shots['away_team'].unique().tolist())\n"
   ]
  },
  {
   "cell_type": "code",
   "execution_count": null,
   "id": "33389c20-027d-4efe-a04c-b89ce037b2a2",
   "metadata": {},
   "outputs": [],
   "source": [
    "df_shots = pd.read_excel(\"ISL_Sample_Shots.xlsx\")\n",
    "shot_teams = set(df_shots['home_team'].unique().tolist()+df_shots['away_team'].unique().tolist())"
   ]
  },
  {
   "cell_type": "code",
   "execution_count": null,
   "id": "e66ef7b9-da69-4fa8-a9c0-ac2a10050375",
   "metadata": {},
   "outputs": [],
   "source": [
    "def best_fuzzy_match(team_name, choices, threshold=60):\n",
    "    match, score = process.extractOne(team_name, choices, scorer=fuzz.token_sort_ratio)\n",
    "    print(match, score)\n",
    "    return match,score if score >= threshold else None\n",
    "\n",
    "def normalize_text(txt):\n",
    "    return unidecode(txt).lower()\n",
    "# # Demo mapping home teams in teams1 to teams2 list\n",
    "# for t1 in :\n",
    "#     match = best_fuzzy_match(t1, shot_teams)\n",
    "#     print(f\"{t1} → {match}\")\n"
   ]
  },
  {
   "cell_type": "code",
   "execution_count": null,
   "id": "4114b728-d23e-4274-b626-0d497785b4ab",
   "metadata": {},
   "outputs": [],
   "source": [
    "for i,row in df_event.iterrows() :\n",
    "    print(i,row)\n",
    "    break"
   ]
  },
  {
   "cell_type": "code",
   "execution_count": null,
   "id": "70256987-9723-47a1-933e-2abe2eb6b706",
   "metadata": {},
   "outputs": [],
   "source": [
    "df_shots.shape,df_event.shape"
   ]
  },
  {
   "cell_type": "code",
   "execution_count": null,
   "id": "97d68c60-9003-4a82-b835-2e70fb884ffc",
   "metadata": {},
   "outputs": [],
   "source": [
    "import json\n",
    "with open(\"./notebooks/Fetch games/team_alias.txt\",\"r\") as f :\n",
    "    data = json.loads(f.read())"
   ]
  },
  {
   "cell_type": "code",
   "execution_count": null,
   "id": "0b2814a2-a702-418c-84d7-332bf8178e02",
   "metadata": {},
   "outputs": [],
   "source": [
    "df_data = []\n",
    "for name,alias in data.items():\n",
    "    \n",
    "    for al in alias :\n",
    "        temp = {}\n",
    "        temp['Input'] = al\n",
    "        temp['Target'] = name\n",
    "        temp['score'] = fuzz.ratio(name,al)\n",
    "        temp['token_set_ratio'] = fuzz.token_set_ratio(name,al)\n",
    "        temp['n_score'] = fuzz.ratio(normalize_text(name),normalize_text(al))\n",
    "        temp['n_token_set_ratio'] = fuzz.token_set_ratio(normalize_text(name),normalize_text(al))\n",
    "        # print(f\"al : {al} | name : {name}\")\n",
    "        df_data.append(temp)\n"
   ]
  },
  {
   "cell_type": "code",
   "execution_count": null,
   "id": "d696eb06-3592-49d5-be79-ee230bbbe838",
   "metadata": {},
   "outputs": [],
   "source": [
    "df = pd.DataFrame(df_data)"
   ]
  },
  {
   "cell_type": "code",
   "execution_count": null,
   "id": "c3aafc80-144a-45f3-a7a8-5ce93fb73192",
   "metadata": {},
   "outputs": [],
   "source": [
    "df.to_excel(\"Fuzzy Name Mapping.xlsx\",index=False)"
   ]
  },
  {
   "cell_type": "code",
   "execution_count": null,
   "id": "5dd0baa4-a9de-4e85-89fa-80460b37b0a9",
   "metadata": {},
   "outputs": [
    {
     "name": "stdout",
     "output_type": "stream",
     "text": [
      "\n",
      "📅 Snapshot Time: 2025-10-25 15:42:24 \n",
      "\n",
      "Seasons : | ⏳: 1 | ❌: 9 | ✅: 11 | 💤: 7\n",
      " \n",
      "S.No.  Filename                                                          Message                   Progress             +/-        Status    \n",
      "------------------------------------------------------------------------------------------------------------------------------------------\n",
      "\u001b[93m21   Eerste Divisie : 2018 2019                                        Running                   79.74% (303/380)     +1 📈          ⏳✨        \u001b[0m\n",
      "\u001b[91m20   Primera Division : 2023                                           TimeoutException          77.03% (171/222)     0 ➖           ❌         \u001b[0m\n",
      "\u001b[91m19   Brasileiro Serie A : 2022                                         TimeoutException          41.84% (159/380)     0 ➖           ❌         \u001b[0m\n",
      "\u001b[92m18   1. Lig : 2024 2025                                                OK                        100.00% (385/385)    0 ➖           ✅         \u001b[0m\n",
      "\u001b[92m17   EFL Championship : 2021 2022                                      OK                        100.00% (557/557)    0 ➖           ✅         \u001b[0m\n",
      "\u001b[92m16   EFL Championship : 2024 2025                                      OK                        100.00% (557/557)    0 ➖           ✅         \u001b[0m\n",
      "\u001b[92m15   Eerste Divisie : 2017 2018                                        OK                        100.00% (380/380)    0 ➖           ✅         \u001b[0m\n",
      "\u001b[92m14   Eliteserien : 2020                                                OK                        100.00% (240/240)    0 ➖           ✅         \u001b[0m\n",
      "\u001b[92m13   HNL : 2020 2021                                                   OK                        100.00% (180/180)    0 ➖           ✅         \u001b[0m\n",
      "\u001b[92m12   Jupiler Pro League : 2017 2018                                    OK                        100.00% (270/270)    0 ➖           ✅         \u001b[0m\n",
      "\u001b[92m11   Liga I : 2021 2022                                                OK                        100.00% (316/316)    0 ➖           ✅         \u001b[0m\n",
      "\u001b[92m10   PSL : 2019 2020                                                   OK                        100.00% (240/240)    0 ➖           ✅         \u001b[0m\n",
      "\u001b[92m9    PSL : 2020 2021                                                   OK                        100.00% (240/240)    0 ➖           ✅         \u001b[0m\n",
      "\u001b[92m8    PSL : 2021 2022                                                   OK                        100.00% (240/240)    0 ➖           ✅         \u001b[0m\n",
      "\u001b[38;5;213m7    2. Bundesliga : 2018 2019                                         Done Already              100.00% (306/306)    0 ➖           💤         \u001b[0m\n",
      "\u001b[38;5;213m6    2. Bundesliga : 2020 2021                                         Done Already              100.00% (306/306)    0 ➖           💤         \u001b[0m\n",
      "\u001b[38;5;213m5    Austrian Bundesliga : 2021 2022                                   Done Already              100.00% (195/195)    0 ➖           💤         \u001b[0m\n",
      "\u001b[38;5;213m4    EFL League One : 2023 2024                                        Done Already              100.00% (557/557)    0 ➖           💤         \u001b[0m\n",
      "\u001b[38;5;213m3    Eredivisie : 2019 2020                                            Done Already              100.00% (232/232)    0 ➖           💤         \u001b[0m\n",
      "\u001b[38;5;213m2    Premiership : 2020 2021                                           Done Already              100.00% (228/228)    0 ➖           💤         \u001b[0m\n",
      "\u001b[38;5;213m1    Premiership : 2021 2022                                           Done Already              100.00% (228/228)    0 ➖           💤         \u001b[0m\n"
     ]
    }
   ],
   "source": [
    "import os\n",
    "import time\n",
    "import shutil\n",
    "from datetime import datetime, timedelta\n",
    "from IPython.display import clear_output\n",
    "\n",
    "# ANSI color codes\n",
    "RED = \"\\033[91m\"\n",
    "GREEN = \"\\033[92m\"\n",
    "YELLOW = \"\\033[93m\"\n",
    "DARK_GREEN = \"\\033[38;5;213m\"\n",
    "RESET = \"\\033[0m\"\n",
    "\n",
    "def copy_files(src_dir, temp_dir):\n",
    "    \"\"\"Copy all files from source dir to temp dir (fresh snapshot).\"\"\"\n",
    "    if os.path.exists(temp_dir):\n",
    "        shutil.rmtree(temp_dir)  # remove old snapcshot\n",
    "    os.makedirs(temp_dir, exist_ok=True)\n",
    "\n",
    "    for filename in os.listdir(src_dir):\n",
    "        src_file = os.path.join(src_dir, filename)\n",
    "        dst_file = os.path.join(temp_dir, filename)\n",
    "        if os.path.isfile(src_file):\n",
    "            shutil.copy2(src_file, dst_file)\n",
    "\n",
    "def tail_last_line(file_path):\n",
    "    \"\"\"Extract progress and error info from log file.\"\"\"\n",
    "    try:\n",
    "        with open(file_path, 'r', errors=\"ignore\") as f:\n",
    "            valid = f.read().split(\"\\n\")\n",
    "        valid_lines = [x.split(\"Working on Match\")[-1].strip(\" \").strip(\".\") \n",
    "                       for x in valid if \"Working on Match\" in x]\n",
    "        error_lines = [x.split(\"INFO: Type     :\")[-1].strip(\" \") \n",
    "                       for x in valid if \"INFO: Type     :\" in x] + \\\n",
    "                      [x.split(\"Type         =>\")[-1].strip(\" \") \n",
    "                       for x in valid if \"Type         =>\" in x]\n",
    "        pre_done_lines = [x.split(\"i.e.\")[-1].strip(\" \").strip(\".\").split(\" \")[0].strip('.')\n",
    "                       for x in valid if \"Existing file already has the same number of fixtures with event links\" in x]\n",
    "        \n",
    "        if pre_done_lines:\n",
    "            count = pre_done_lines[0]\n",
    "            return f\"{count}/{count}\",\"Done Already\"\n",
    "        if len(valid_lines) == 0 and len(error_lines) == 0 and len(pre_done_lines):\n",
    "            return None,None\n",
    "\n",
    "        valid_last = valid_lines[-1] if valid_lines else \"0/1\"\n",
    "        error_last = error_lines[-1] if error_lines else \"\"\n",
    "        return valid_last, error_last\n",
    "    except Exception:\n",
    "        return \"0/1\", \"\"\n",
    "\n",
    "def watch_directory(src_dir, interval=7):\n",
    "    temp_dir = os.path.join(src_dir, \"_temp_snapshot\")\n",
    "    last_progress = {}  # remember progress from last check\n",
    "\n",
    "    try:\n",
    "        # Copy logs into temp dir\n",
    "        while True:\n",
    "            copy_files(src_dir, temp_dir)\n",
    "    \n",
    "            rows = []\n",
    "            stale_count=0\n",
    "            for filename in os.listdir(temp_dir):\n",
    "                filepath = os.path.join(temp_dir, filename)\n",
    "                if os.path.isfile(filepath):\n",
    "                    valid, err = tail_last_line(filepath)\n",
    "                    if valid is None and err is None :\n",
    "                        continue\n",
    "                    try:\n",
    "                        done, total = [int(x) for x in valid.split(\"/\")]\n",
    "                        percent = (done / total) * 100 if total > 0 else 0\n",
    "                        progress_str = f\"{percent:.2f}% ({valid})\"\n",
    "                    except Exception:\n",
    "                        done, total, percent = 0, 1, 0\n",
    "                        progress_str = \"0.00% (0/1)\"\n",
    "                    \n",
    "                    #remive stale logs\n",
    "                    # mtime = datetime.fromtimestamp(os.path.getmtime(filepath))\n",
    "                    # recent_threshold = datetime.now() - timedelta(hours=30)\n",
    "                    # is_recent = mtime >= recent_threshold\n",
    "                    # if not is_recent:\n",
    "                    #     stale_count += 1\n",
    "                    #     continue  # skip adding to rows\n",
    "                    # detect progress change\n",
    "                    prev_done = last_progress.get(filename, 0)\n",
    "                    delta = done - prev_done\n",
    "                    if delta > 0:\n",
    "                        change_str = f\"+{delta} 📈\"\n",
    "                    elif delta == 0:\n",
    "                        change_str = \"0 ➖\"\n",
    "                    else:\n",
    "                        change_str = \"\"  # backward or reset\n",
    "                    last_progress[filename] = done  # update snapshot\n",
    "    \n",
    "                    # check recent changes\n",
    "                    mtime = datetime.fromtimestamp(os.path.getmtime(filepath))\n",
    "                    recent = datetime.now() - timedelta(minutes=5)\n",
    "                    is_recent = mtime >= recent\n",
    "                    recent_flag = \"✨\" if is_recent else \"\"\n",
    "    \n",
    "                    if 'exc' in err.lower() or 'err' in err.lower():\n",
    "                        message, emoji, color, group = err, f\"❌{recent_flag}\", RED, 2\n",
    "                    elif done < total :\n",
    "                        message, emoji, color, group = \"Running\", f\"⏳{recent_flag}\", YELLOW, 1\n",
    "                    elif err == 'Done Already':\n",
    "                        message, emoji, color, group = \"Done Already\", f\"💤{recent_flag}\", DARK_GREEN, 4\n",
    "                    else:\n",
    "                        message, emoji, color, group = \"OK\", f\"✅{recent_flag}\", GREEN, 3\n",
    "    \n",
    "                    rows.append((group, not is_recent, -percent, filename, message, progress_str, change_str, emoji, color))\n",
    "    \n",
    "            rows.sort()\n",
    "    \n",
    "            # print table\n",
    "            running_count = sum(1 for r in rows if r[4] == \"Running\")\n",
    "            pre_done_count = sum(1 for r in rows if r[4] == \"Done Already\")\n",
    "            error_count   = sum(1 for r in rows if r[4] != \"Running\" and r[4] != \"OK\")  # catches ❌\n",
    "            ok_count      = sum(1 for r in rows if r[4] == \"OK\")\n",
    "    \n",
    "            # print table header\n",
    "            clear_output(wait=True)\n",
    "            now = datetime.now().strftime(\"%Y-%m-%d %H:%M:%S\")\n",
    "            print(f\"\\n📅 Snapshot Time: {now} \\n\\nSeasons : | ⏳: {running_count} | ❌: {error_count} | ✅: {ok_count} | 💤: {pre_done_count}\\n \")\n",
    "            print(f\"{'S.No.':<6} {'Filename':<65} {'Message':<25} {'Progress':<20} {'+/-':<10} {'Status':<10}\")\n",
    "            print(\"-\" * 138)\n",
    "            \n",
    "            for idx, (_, _, _, filename, message, progress_str, change_str, emoji, color) in enumerate(rows, start=1):\n",
    "                row = f\"{len(rows) - idx + 1:<4} {' : '.join(filename.split('_-_')[:2]).replace('_',' '):<65} {message:<25} {progress_str:<20} {change_str:<13} {emoji:<10}\"\n",
    "                print(f\"{color}{row}{RESET}\")\n",
    "                \n",
    "            time.sleep(interval)\n",
    "    except KeyboardInterrupt:\n",
    "        print(\"\\nStopped.\")\n",
    "\n",
    "if __name__ == \"__main__\":\n",
    "    watch_directory(r\"D:\\runtime_logs\", interval=7)\n"
   ]
  },
  {
   "cell_type": "code",
   "execution_count": null,
   "id": "0cc5e158-5ec0-4666-87c3-b254dde28463",
   "metadata": {},
   "outputs": [],
   "source": [
    "MLS 24 should have more than 46 matches info"
   ]
  },
  {
   "cell_type": "code",
   "execution_count": 7,
   "id": "c51f2b60-7462-416b-a26c-b0c38b65c62d",
   "metadata": {},
   "outputs": [],
   "source": [
    "import pandas as pd"
   ]
  },
  {
   "cell_type": "code",
   "execution_count": 9,
   "id": "b84a2749-8ee4-40f0-a2db-0d53915b5c7d",
   "metadata": {},
   "outputs": [
    {
     "data": {
      "text/plain": [
       "[{'comp': 'Eliteserien', 'season': '2020'},\n",
       " {'comp': '1. Lig', 'season': '2024/2025'},\n",
       " {'comp': 'Jupiler Pro League', 'season': '2017/2018'},\n",
       " {'comp': 'Primera Division', 'season': '2023'},\n",
       " {'comp': '2. Bundesliga', 'season': '2020/2021'},\n",
       " {'comp': 'EFL Championship', 'season': '2021/2022'},\n",
       " {'comp': 'EFL Championship', 'season': '2024/2025'},\n",
       " {'comp': 'Premiership', 'season': '2020/2021'},\n",
       " {'comp': 'Austrian Bundesliga', 'season': '2021/2022'},\n",
       " {'comp': 'PSL', 'season': '2020/2021'},\n",
       " {'comp': 'HNL', 'season': '2020/2021'},\n",
       " {'comp': 'Premiership', 'season': '2021/2022'},\n",
       " {'comp': 'EFL League One', 'season': '2023/2024'},\n",
       " {'comp': 'PSL', 'season': '2019/2020'},\n",
       " {'comp': 'Eredivisie', 'season': '2019/2020'},\n",
       " {'comp': '2. Bundesliga', 'season': '2018/2019'},\n",
       " {'comp': 'PSL', 'season': '2021/2022'},\n",
       " {'comp': 'Brasileiro Serie A', 'season': '2022'},\n",
       " {'comp': 'Eerste Divisie', 'season': '2017/2018'},\n",
       " {'comp': 'Liga I', 'season': '2021/2022'},\n",
       " {'comp': 'Eerste Divisie', 'season': '2018/2019'}]"
      ]
     },
     "execution_count": 9,
     "metadata": {},
     "output_type": "execute_result"
    }
   ],
   "source": [
    "retry = [{\"comp\" :x.split(\",\")[0].strip(\" \"),\"season\":x.split(\",\")[-1].strip(\" \").replace(\" \",\"/\")} for x in \"\"\"\n",
    "Eliteserien,2020\n",
    "1. Lig, 2024 2025\n",
    "Jupiler Pro League, 2017 2018\n",
    "Primera Division,2023\n",
    "2. Bundesliga, 2020 2021\n",
    "EFL Championship, 2021 2022\n",
    "EFL Championship, 2024 2025\n",
    "Premiership, 2020 2021\n",
    "Austrian Bundesliga, 2021 2022\n",
    "PSL, 2020 2021\n",
    "HNL, 2020 2021\n",
    "Premiership, 2021 2022\n",
    "EFL League One, 2023 2024\n",
    "PSL, 2019 2020\n",
    "Eredivisie, 2019 2020\n",
    "2. Bundesliga, 2018 2019\n",
    "PSL, 2021 2022\n",
    "Brasileiro Serie A,2022\n",
    "Eerste Divisie, 2017 2018\n",
    "Liga I, 2021 2022\n",
    "Eerste Divisie, 2018 2019\n",
    "\"\"\".split(\"\\n\") if x ]\n",
    "retry"
   ]
  },
  {
   "cell_type": "code",
   "execution_count": 12,
   "id": "3d83082e-5c00-4a28-90e0-e96e3c00b027",
   "metadata": {},
   "outputs": [],
   "source": [
    "from leagues.models import Competition, Season"
   ]
  },
  {
   "cell_type": "code",
   "execution_count": 29,
   "id": "2783f14a-a954-47a6-b870-158a4d4d4ba6",
   "metadata": {},
   "outputs": [
    {
     "data": {
      "text/plain": [
       "{'_state': <django.db.models.base.ModelState at 0x213fb740590>,\n",
       " 'id': 15,\n",
       " 'confederation': 'CONMEBOL',\n",
       " 'country': 'CONMEBOL',\n",
       " 'competition_name': 'Copa Sudamericana',\n",
       " 'name_scoresaway': 'CONMEBOL Sudamericana',\n",
       " 'name_fotmob': 'Copa Sudamericana',\n",
       " 'competition_format': 'H',\n",
       " 'competition_type': 'I',\n",
       " 'season_start': 3,\n",
       " 'season_end': 12,\n",
       " 'event_data_available': True,\n",
       " 'event_data_url': 'https://www.scoresway.com/en_GB/soccer/conmebol-sudamericana-2025/bfz5665mze2yubs4s5t21f66s/fixtures',\n",
       " 'shot_data_available': False,\n",
       " 'shot_data_url': ''}"
      ]
     },
     "execution_count": 29,
     "metadata": {},
     "output_type": "execute_result"
    }
   ],
   "source": [
    "Season.objects.all()[105].competition.__dict__"
   ]
  },
  {
   "cell_type": "code",
   "execution_count": 30,
   "id": "3c7f4d42-0d11-4aab-9e26-87f7f5051e9d",
   "metadata": {},
   "outputs": [],
   "source": [
    "c = 0\n",
    "retry_ones = []\n",
    "for element in retry :\n",
    "    try :\n",
    "        tmp = {}\n",
    "        obj = Season.objects.get(name=element.get('season'),competition__competition_name=element.get('comp')) \n",
    "        tmp['confederation'] = obj.competition.confederation\n",
    "        tmp['region'] = obj.competition.country\n",
    "        tmp['competition'] = obj.competition.competition_name\n",
    "        tmp['season'] = obj.name\n",
    "        retry_ones.append(tmp)\n",
    "    except:\n",
    "        c+=1\n",
    "        print(c,\"element Not found : \",element)"
   ]
  },
  {
   "cell_type": "code",
   "execution_count": 34,
   "id": "3d1231d8-a6ce-473b-b8b9-315be2c29efe",
   "metadata": {},
   "outputs": [],
   "source": [
    "pd.DataFrame(retry_ones).to_excel(\"Last_Failures.xlsx\",index=False)"
   ]
  },
  {
   "cell_type": "code",
   "execution_count": null,
   "id": "ee7ec527-e656-4a61-b974-e8f638409328",
   "metadata": {},
   "outputs": [],
   "source": []
  }
 ],
 "metadata": {
  "kernelspec": {
   "display_name": "Django Notebook",
   "language": "python",
   "name": "django_env"
  },
  "language_info": {
   "codemirror_mode": {
    "name": "ipython",
    "version": 3
   },
   "file_extension": ".py",
   "mimetype": "text/x-python",
   "name": "python",
   "nbconvert_exporter": "python",
   "pygments_lexer": "ipython3",
   "version": "3.11.9"
  }
 },
 "nbformat": 4,
 "nbformat_minor": 5
}
