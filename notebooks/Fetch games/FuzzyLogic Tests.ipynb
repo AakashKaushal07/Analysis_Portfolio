{
 "cells": [
  {
   "cell_type": "code",
   "execution_count": null,
   "id": "45b0c9cf-b1e2-4a62-a802-baea2c9d850a",
   "metadata": {},
   "outputs": [],
   "source": [
    "%pip install matplotlib"
   ]
  },
  {
   "cell_type": "code",
   "execution_count": null,
   "id": "9dedc682-180b-4ff3-a66e-13a2be1ecf20",
   "metadata": {},
   "outputs": [],
   "source": [
    "from fuzzywuzzy import fuzz, process\n",
    "import pandas as pd\n",
    "import matplotlib.pyplot as plt\n",
    "from unidecode import unidecode"
   ]
  },
  {
   "cell_type": "code",
   "execution_count": null,
   "id": "52974031-e090-4287-845a-a8377274aec3",
   "metadata": {},
   "outputs": [],
   "source": [
    "df_event = pd.read_excel(\"ISL_Sample.xlsx\")\n",
    "# basis = set(df_shots['home_team'].unique().tolist()+df_shots['away_team'].unique().tolist())\n"
   ]
  },
  {
   "cell_type": "code",
   "execution_count": null,
   "id": "33389c20-027d-4efe-a04c-b89ce037b2a2",
   "metadata": {},
   "outputs": [],
   "source": [
    "df_shots = pd.read_excel(\"ISL_Sample_Shots.xlsx\")\n",
    "shot_teams = set(df_shots['home_team'].unique().tolist()+df_shots['away_team'].unique().tolist())"
   ]
  },
  {
   "cell_type": "code",
   "execution_count": null,
   "id": "e66ef7b9-da69-4fa8-a9c0-ac2a10050375",
   "metadata": {},
   "outputs": [],
   "source": [
    "def best_fuzzy_match(team_name, choices, threshold=60):\n",
    "    match, score = process.extractOne(team_name, choices, scorer=fuzz.token_sort_ratio)\n",
    "    print(match, score)\n",
    "    return match,score if score >= threshold else None\n",
    "\n",
    "def normalize_text(txt):\n",
    "    return unidecode(txt).lower()\n",
    "# # Demo mapping home teams in teams1 to teams2 list\n",
    "# for t1 in :\n",
    "#     match = best_fuzzy_match(t1, shot_teams)\n",
    "#     print(f\"{t1} → {match}\")\n"
   ]
  },
  {
   "cell_type": "code",
   "execution_count": null,
   "id": "4114b728-d23e-4274-b626-0d497785b4ab",
   "metadata": {},
   "outputs": [],
   "source": [
    "for i,row in df_event.iterrows() :\n",
    "    print(i,row)\n",
    "    break"
   ]
  },
  {
   "cell_type": "code",
   "execution_count": null,
   "id": "70256987-9723-47a1-933e-2abe2eb6b706",
   "metadata": {},
   "outputs": [],
   "source": [
    "df_shots.shape,df_event.shape"
   ]
  },
  {
   "cell_type": "code",
   "execution_count": null,
   "id": "97d68c60-9003-4a82-b835-2e70fb884ffc",
   "metadata": {},
   "outputs": [],
   "source": [
    "import json\n",
    "with open(\"./notebooks/Fetch games/team_alias.txt\",\"r\") as f :\n",
    "    data = json.loads(f.read())"
   ]
  },
  {
   "cell_type": "code",
   "execution_count": null,
   "id": "0b2814a2-a702-418c-84d7-332bf8178e02",
   "metadata": {},
   "outputs": [],
   "source": [
    "df_data = []\n",
    "for name,alias in data.items():\n",
    "    \n",
    "    for al in alias :\n",
    "        temp = {}\n",
    "        temp['Input'] = al\n",
    "        temp['Target'] = name\n",
    "        temp['score'] = fuzz.ratio(name,al)\n",
    "        temp['token_set_ratio'] = fuzz.token_set_ratio(name,al)\n",
    "        temp['n_score'] = fuzz.ratio(normalize_text(name),normalize_text(al))\n",
    "        temp['n_token_set_ratio'] = fuzz.token_set_ratio(normalize_text(name),normalize_text(al))\n",
    "        # print(f\"al : {al} | name : {name}\")\n",
    "        df_data.append(temp)\n"
   ]
  },
  {
   "cell_type": "code",
   "execution_count": null,
   "id": "d696eb06-3592-49d5-be79-ee230bbbe838",
   "metadata": {},
   "outputs": [],
   "source": [
    "df = pd.DataFrame(df_data)"
   ]
  },
  {
   "cell_type": "code",
   "execution_count": null,
   "id": "c3aafc80-144a-45f3-a7a8-5ce93fb73192",
   "metadata": {},
   "outputs": [],
   "source": [
    "df.to_excel(\"Fuzzy Name Mapping.xlsx\",index=False)"
   ]
  },
  {
   "cell_type": "code",
   "execution_count": null,
   "id": "5dd0baa4-a9de-4e85-89fa-80460b37b0a9",
   "metadata": {},
   "outputs": [
    {
     "name": "stdout",
     "output_type": "stream",
     "text": [
      "\n",
      "📅 Snapshot Time: 2025-09-26 05:06:18 \n",
      "\n",
      "Seasons : | ⏳: 0 | ❌: 8 | ✅: 0 | 💤: 0\n",
      " \n",
      "S.No.  Filename                                                          Message                   Progress             +/-        Status    \n",
      "------------------------------------------------------------------------------------------------------------------------------------------\n",
      "\u001b[91m8    EFL League Two : 2018 2019                                        TimeoutException          16.34% (91/557)      0 ➖           ❌✨        \u001b[0m\n",
      "\u001b[91m7    Czech First League : 2019 2020                                    TimeoutException          16.24% (44/271)      0 ➖           ❌✨        \u001b[0m\n",
      "\u001b[91m6    UEFA Conference League : 2021 2022                                ReadTimeoutError          98.82% (418/423)     0 ➖           ❌         \u001b[0m\n",
      "\u001b[91m5    Premier League : 2024 2025                                        TimeoutException          36.32% (138/380)     0 ➖           ❌         \u001b[0m\n",
      "\u001b[91m4    La Liga : 2024 2025                                               ReadTimeoutError          16.05% (61/380)      0 ➖           ❌         \u001b[0m\n",
      "\u001b[91m3    UEFA Conference League : 2022 2023                                TimeoutException          14.22% (59/415)      0 ➖           ❌         \u001b[0m\n",
      "\u001b[91m2    Segunda Division : 2024 2025                                      TimeoutException          10.68% (50/468)      0 ➖           ❌         \u001b[0m\n",
      "\u001b[91m1    EFL League Two : 2017 2018                                        TimeoutException          0.36% (2/557)        0 ➖           ❌         \u001b[0m\n"
     ]
    }
   ],
   "source": [
    "import os\n",
    "import time\n",
    "import shutil\n",
    "from datetime import datetime, timedelta\n",
    "from IPython.display import clear_output\n",
    "\n",
    "# ANSI color codes\n",
    "RED = \"\\033[91m\"\n",
    "GREEN = \"\\033[92m\"\n",
    "YELLOW = \"\\033[93m\"\n",
    "RESET = \"\\033[0m\"\n",
    "\n",
    "def copy_files(src_dir, temp_dir):\n",
    "    \"\"\"Copy all files from source dir to temp dir (fresh snapshot).\"\"\"\n",
    "    if os.path.exists(temp_dir):\n",
    "        shutil.rmtree(temp_dir)  # remove old snapcshot\n",
    "    os.makedirs(temp_dir, exist_ok=True)\n",
    "\n",
    "    for filename in os.listdir(src_dir):\n",
    "        src_file = os.path.join(src_dir, filename)\n",
    "        dst_file = os.path.join(temp_dir, filename)\n",
    "        if os.path.isfile(src_file):\n",
    "            shutil.copy2(src_file, dst_file)\n",
    "\n",
    "def tail_last_line(file_path):\n",
    "    \"\"\"Extract progress and error info from log file.\"\"\"\n",
    "    try:\n",
    "        with open(file_path, 'r', errors=\"ignore\") as f:\n",
    "            valid = f.read().split(\"\\n\")\n",
    "        valid_lines = [x.split(\"Working on Match\")[-1].strip(\" \").strip(\".\") \n",
    "                       for x in valid if \"Working on Match\" in x]\n",
    "        error_lines = [x.split(\"INFO: Type     :\")[-1].strip(\" \") \n",
    "                       for x in valid if \"INFO: Type     :\" in x] + \\\n",
    "                      [x.split(\"Type         =>\")[-1].strip(\" \") \n",
    "                       for x in valid if \"Type         =>\" in x]\n",
    "        if len(valid_lines) == 0 and len(error_lines) == 0:\n",
    "            return None,None\n",
    "            \n",
    "        valid_last = valid_lines[-1] if valid_lines else \"0/1\"\n",
    "        error_last = error_lines[-1] if error_lines else \"\"\n",
    "        return valid_last, error_last\n",
    "    except Exception:\n",
    "        return \"0/1\", \"\"\n",
    "\n",
    "def watch_directory(src_dir, interval=7):\n",
    "    temp_dir = os.path.join(src_dir, \"_temp_snapshot\")\n",
    "    last_progress = {}  # remember progress from last check\n",
    "\n",
    "    try:\n",
    "        # Copy logs into temp dir\n",
    "        while True:\n",
    "            copy_files(src_dir, temp_dir)\n",
    "    \n",
    "            rows = []\n",
    "            stale_count=0\n",
    "            \n",
    "            for filename in os.listdir(temp_dir):\n",
    "                filepath = os.path.join(temp_dir, filename)\n",
    "                if os.path.isfile(filepath):\n",
    "                    valid, err = tail_last_line(filepath)\n",
    "                    if valid is None and err is None :\n",
    "                        continue\n",
    "                    try:\n",
    "                        done, total = [int(x) for x in valid.split(\"/\")]\n",
    "                        percent = (done / total) * 100 if total > 0 else 0\n",
    "                        progress_str = f\"{percent:.2f}% ({valid})\"\n",
    "                    except Exception:\n",
    "                        done, total, percent = 0, 1, 0\n",
    "                        progress_str = \"0.00% (0/1)\"\n",
    "                    \n",
    "                    #remive stale logs\n",
    "                    # mtime = datetime.fromtimestamp(os.path.getmtime(filepath))\n",
    "                    # recent_threshold = datetime.now() - timedelta(hours=30)\n",
    "                    # is_recent = mtime >= recent_threshold\n",
    "                    # if not is_recent:\n",
    "                    #     stale_count += 1\n",
    "                    #     continue  # skip adding to rows\n",
    "                    # detect progress change\n",
    "                    prev_done = last_progress.get(filename, 0)\n",
    "                    delta = done - prev_done\n",
    "                    if delta > 0:\n",
    "                        change_str = f\"+{delta} 📈\"\n",
    "                    elif delta == 0:\n",
    "                        change_str = \"0 ➖\"\n",
    "                    else:\n",
    "                        change_str = \"\"  # backward or reset\n",
    "                    last_progress[filename] = done  # update snapshot\n",
    "    \n",
    "                    # check recent changes\n",
    "                    mtime = datetime.fromtimestamp(os.path.getmtime(filepath))\n",
    "                    recent = datetime.now() - timedelta(minutes=5)\n",
    "                    is_recent = mtime >= recent\n",
    "                    recent_flag = \"✨\" if is_recent else \"\"\n",
    "    \n",
    "                    if err:\n",
    "                        message, emoji, color, group = err, f\"❌{recent_flag}\", RED, 2\n",
    "                    elif done < total :\n",
    "                        message, emoji, color, group = \"Running\", f\"⏳{recent_flag}\", YELLOW, 1\n",
    "                    else:\n",
    "                        message, emoji, color, group = \"OK\", f\"✅{recent_flag}\", GREEN, 3\n",
    "    \n",
    "                    rows.append((group, not is_recent, -percent, filename, message, progress_str, change_str, emoji, color))\n",
    "    \n",
    "            rows.sort()\n",
    "    \n",
    "            # print table\n",
    "            running_count = sum(1 for r in rows if r[4] == \"Running\")\n",
    "            error_count   = sum(1 for r in rows if r[4] != \"Running\" and r[4] != \"OK\")  # catches ❌\n",
    "            ok_count      = sum(1 for r in rows if r[4] == \"OK\")\n",
    "    \n",
    "            # print table header\n",
    "            clear_output(wait=True)\n",
    "            now = datetime.now().strftime(\"%Y-%m-%d %H:%M:%S\")\n",
    "            print(f\"\\n📅 Snapshot Time: {now} \\n\\nSeasons : | ⏳: {running_count} | ❌: {error_count} | ✅: {ok_count} | 💤: {stale_count}\\n \")\n",
    "            print(f\"{'S.No.':<6} {'Filename':<65} {'Message':<25} {'Progress':<20} {'+/-':<10} {'Status':<10}\")\n",
    "            print(\"-\" * 138)\n",
    "            \n",
    "            for idx, (_, _, _, filename, message, progress_str, change_str, emoji, color) in enumerate(rows, start=1):\n",
    "                row = f\"{len(rows) - idx + 1:<4} {' : '.join(filename.split('_-_')[:2]).replace('_',' '):<65} {message:<25} {progress_str:<20} {change_str:<13} {emoji:<10}\"\n",
    "                print(f\"{color}{row}{RESET}\")\n",
    "                \n",
    "            time.sleep(interval)\n",
    "    except KeyboardInterrupt:\n",
    "        print(\"\\nStopped.\")\n",
    "\n",
    "if __name__ == \"__main__\":\n",
    "    watch_directory(r\"D:\\runtime_logs\", interval=7)\n"
   ]
  },
  {
   "cell_type": "code",
   "execution_count": null,
   "id": "0cc5e158-5ec0-4666-87c3-b254dde28463",
   "metadata": {},
   "outputs": [],
   "source": [
    "rows"
   ]
  },
  {
   "cell_type": "code",
   "execution_count": null,
   "id": "b84a2749-8ee4-40f0-a2db-0d53915b5c7d",
   "metadata": {},
   "outputs": [],
   "source": []
  },
  {
   "cell_type": "code",
   "execution_count": null,
   "id": "3d83082e-5c00-4a28-90e0-e96e3c00b027",
   "metadata": {},
   "outputs": [],
   "source": []
  }
 ],
 "metadata": {
  "kernelspec": {
   "display_name": "Django Notebook",
   "language": "python",
   "name": "django_env"
  },
  "language_info": {
   "codemirror_mode": {
    "name": "ipython",
    "version": 3
   },
   "file_extension": ".py",
   "mimetype": "text/x-python",
   "name": "python",
   "nbconvert_exporter": "python",
   "pygments_lexer": "ipython3",
   "version": "3.11.9"
  }
 },
 "nbformat": 4,
 "nbformat_minor": 5
}
