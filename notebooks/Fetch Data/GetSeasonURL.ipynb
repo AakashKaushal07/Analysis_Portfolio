{
 "cells": [
  {
   "cell_type": "code",
   "execution_count": 1,
   "id": "ca8d5c38-2610-4d1d-8e62-06fa6c55b926",
   "metadata": {},
   "outputs": [],
   "source": [
    "from base_app.models import ConfigItems\n",
    "from leagues.models import Competition, Season"
   ]
  },
  {
   "cell_type": "code",
   "execution_count": 2,
   "id": "814c4515",
   "metadata": {},
   "outputs": [],
   "source": [
    "from seleniumwire import webdriver\n",
    "from selenium.webdriver.common.by import By\n",
    "import requests,os,sys,json\n",
    "from bs4 import BeautifulSoup\n",
    "from time import sleep\n",
    "from pprint import pprint\n",
    "import pandas as pd"
   ]
  },
  {
   "cell_type": "code",
   "execution_count": null,
   "id": "0825d7bc-9ba8-41ae-82dc-c9726d4d2081",
   "metadata": {},
   "outputs": [],
   "source": [
    "config_obj = {conf.key : conf.value for conf in ConfigItems.objects.all()}"
   ]
  },
  {
   "cell_type": "code",
   "execution_count": null,
   "id": "b0df2820-b1f6-47b4-943d-07c70b71d666",
   "metadata": {},
   "outputs": [],
   "source": [
    "available_countries = Competition.objects.values_list('country', flat=True).distinct()\n",
    "\n",
    "available_comps_scores_away_items = Competition.objects.values_list('country','name_scoresaway').distinct()\n",
    "available_comps_scores_away = {}\n",
    "for country,competition in available_comps_scores_away_items :\n",
    "    if country not in available_comps_scores_away :\n",
    "        available_comps_scores_away[country]  = []\n",
    "    available_comps_scores_away[country].append(competition.lower())\n",
    "    \n",
    "available_comps_fotmob_items = Competition.objects.filter(shot_data_available=True).values_list('country','name_fotmob').distinct()\n",
    "lowercase_names,available_comps_fotmob,lowercase_comps = [],{},[]\n",
    "for country,competition in available_comps_fotmob_items :\n",
    "    if country not in available_comps_fotmob :\n",
    "        available_comps_fotmob[country]  = []\n",
    "    available_comps_fotmob[country].append(competition.lower())\n",
    "    lowercase_names.append(str(country).lower())\n",
    "    lowercase_comps.append(str(competition).lower())\n"
   ]
  },
  {
   "cell_type": "code",
   "execution_count": null,
   "id": "9a13f78c-37d6-4c48-b1f5-ab8696de30d6",
   "metadata": {},
   "outputs": [],
   "source": [
    "driver = webdriver.Chrome()\n",
    "driver.get(config_obj.get('SCORESAWAY_COMPETETIONS_URL',None))\n"
   ]
  },
  {
   "cell_type": "code",
   "execution_count": null,
   "id": "20c92e19-3da3-4e2b-b73a-1c563e7e5eb3",
   "metadata": {
    "scrolled": true
   },
   "outputs": [],
   "source": [
    "all_country_divs = driver.find_elements(By.CSS_SELECTOR, \".country.closed\")\n",
    "data = []\n",
    "country_data = {}\n",
    "for div in all_country_divs:\n",
    "    country_name = div.find_element(By.CSS_SELECTOR, \"span.name\").get_attribute('innerText')\n",
    "    if country_name in available_countries:\n",
    "        comps = {comp.get_attribute('innerText'): comp.find_element(By.CSS_SELECTOR, 'a').get_property('href') for comp in div.find_elements(By.CSS_SELECTOR, \"li.comp\")}\n",
    "        valid_comps = {comp:link for comp,link in comps.items() if comp.lower() in available_comps_scores_away[country_name]}\n",
    "        country_data[country_name] = 0\n",
    "        for v_comp,comp_url in valid_comps.items():\n",
    "            data.append({\n",
    "                \"country\" : country_name,\n",
    "                \"comp\" : v_comp,\n",
    "                \"url\" : comp_url\n",
    "            })\n",
    "            country_data[country_name]+=1    "
   ]
  },
  {
   "cell_type": "code",
   "execution_count": null,
   "id": "c2dd1a9d-fd2c-41f4-9703-88b1beecf08e",
   "metadata": {},
   "outputs": [],
   "source": [
    "found_counts = dict(sorted(country_data.items()))"
   ]
  },
  {
   "cell_type": "code",
   "execution_count": null,
   "id": "199ef879-4e0d-495d-80f5-133448f764aa",
   "metadata": {},
   "outputs": [],
   "source": [
    "db_counts = dict(sorted({k:len(v) for k,v in available_comps_scores_away.items()}.items()))"
   ]
  },
  {
   "cell_type": "code",
   "execution_count": null,
   "id": "84fc23dd-6364-4e4c-997e-ebe326bbf90d",
   "metadata": {},
   "outputs": [],
   "source": [
    "for x in db_counts.keys() :\n",
    "    if found_counts.get(x,-1) != db_counts.get(x,-1) :\n",
    "        print(f\"For {x} , Found {found_counts.get(x)}, in DB {db_counts.get(x)}\")"
   ]
  },
  {
   "cell_type": "code",
   "execution_count": null,
   "id": "cc76a493-1f8d-4895-9489-4bdd4b3ad18e",
   "metadata": {},
   "outputs": [],
   "source": [
    "# pd.DataFrame(data).to_excel(\"Temp_data.xlsx\",index=False)"
   ]
  },
  {
   "cell_type": "code",
   "execution_count": null,
   "id": "ad36baab-f10d-42f6-abe2-fc896de5d983",
   "metadata": {},
   "outputs": [],
   "source": [
    "(sum(db_counts.values())),sum(found_counts.values()),len(available_comps_scores_away_items)"
   ]
  },
  {
   "cell_type": "code",
   "execution_count": null,
   "id": "cf110ca8-812c-4ce3-b31d-dc2566328abf",
   "metadata": {},
   "outputs": [],
   "source": [
    "for row in data:\n",
    "    comp_obj = Competition.objects.get(country=row['country'],name_scoresaway = row['comp'])\n",
    "    comp_obj.event_data_url = row.get('url',\"PLACEHOLDER\")\n",
    "    # comp_obj.save()"
   ]
  },
  {
   "cell_type": "code",
   "execution_count": null,
   "id": "6c0b996c-8e02-49e3-96b3-f71b8fcc65b6",
   "metadata": {},
   "outputs": [],
   "source": []
  },
  {
   "cell_type": "markdown",
   "id": "1d95dd82-ee43-431b-99e7-2bbf0fb9ec19",
   "metadata": {},
   "source": [
    "# FOR FOTMOB"
   ]
  },
  {
   "cell_type": "code",
   "execution_count": null,
   "id": "b00d118f-0b50-4f7d-829a-6286c8afa957",
   "metadata": {},
   "outputs": [],
   "source": []
  },
  {
   "cell_type": "code",
   "execution_count": null,
   "id": "f6bf3d7d-c3eb-4568-ba90-29da6e3e906f",
   "metadata": {},
   "outputs": [],
   "source": [
    "with open(\"./all_comps_fotmob.json\",\"r\") as f :\n",
    "    data = json.loads(f.read())"
   ]
  },
  {
   "cell_type": "code",
   "execution_count": null,
   "id": "3ae89f93-bd71-41f9-9550-9079d029fdad",
   "metadata": {},
   "outputs": [],
   "source": [
    "int_comps = data.get('international',[{}])[0] \n",
    "int_comps = int_comps.get('leagues')"
   ]
  },
  {
   "cell_type": "code",
   "execution_count": null,
   "id": "effe62d0-a41c-4212-a09a-589ce2ae8978",
   "metadata": {},
   "outputs": [],
   "source": [
    "national_leagues = data.get('countries')"
   ]
  },
  {
   "cell_type": "code",
   "execution_count": null,
   "id": "a970be7b-60fb-4126-84c5-fa7e66958d3d",
   "metadata": {},
   "outputs": [],
   "source": [
    "valid_nations = [x for x in national_leagues if x.get('name').lower() in lowercase_names ]"
   ]
  },
  {
   "cell_type": "code",
   "execution_count": null,
   "id": "21f5e139-8eee-4179-b418-6542cdeea26a",
   "metadata": {},
   "outputs": [],
   "source": [
    "set(lowercase_names) - set([x['name'].lower() for x in valid_nations])"
   ]
  },
  {
   "cell_type": "markdown",
   "id": "ef4f6803-792e-45fb-aba6-4c271d7bcfd7",
   "metadata": {},
   "source": [
    "#^^ DO MANUSALLY ^^^"
   ]
  },
  {
   "cell_type": "code",
   "execution_count": null,
   "id": "e9d7aa6c-2ff4-4fcc-bf92-0f440084aafc",
   "metadata": {},
   "outputs": [],
   "source": [
    "return_data = [] # name_conf\n",
    "for country in valid_nations:\n",
    "    avail_comps = available_comps_fotmob[country.get('name')]\n",
    "    for l in country.get('leagues',[]) :\n",
    "        temp = {}\n",
    "        print(f\"league : {l.get('name')}  | avail_comps : {avail_comps}\")\n",
    "        if l.get('name').lower() in avail_comps :\n",
    "            temp['country'] = country.get('name')\n",
    "            temp['comp'] = l.get('name')\n",
    "            temp['url'] = l.get('pageUrl')\n",
    "            return_data.append(temp)\n",
    "            print()"
   ]
  },
  {
   "cell_type": "code",
   "execution_count": null,
   "id": "b6e77d87-11a0-48b1-ad91-071543592497",
   "metadata": {},
   "outputs": [],
   "source": [
    "return_data"
   ]
  },
  {
   "cell_type": "code",
   "execution_count": null,
   "id": "6c635f57-7cc5-4e76-898c-f636b8292315",
   "metadata": {},
   "outputs": [],
   "source": [
    "df = pd.read_excel(\"Temp_data.xlsx\",sheet_name=\"fotmob\")"
   ]
  },
  {
   "cell_type": "code",
   "execution_count": null,
   "id": "441e509d-f524-4507-93a2-f660d88c3d8c",
   "metadata": {},
   "outputs": [],
   "source": [
    "for i,row in df.iterrows():\n",
    "    try:\n",
    "        comp_item = Competition.objects.get(\n",
    "                    confederation = row.get('confederation'),\n",
    "                    country = row.get('country'),\n",
    "                    competition_name = row.get('competition_name')\n",
    "        )\n",
    "        comp_item.name_fotmob = row.get('fotmob_name','')\n",
    "        comp_item.shot_data_url = f\"https://www.fotmob.com{row.get('page_url','')}\"\n",
    "        comp_item.save()\n",
    "    except Exception as e :\n",
    "        print(\"Issue for \",row,e)"
   ]
  },
  {
   "cell_type": "code",
   "execution_count": null,
   "id": "760ef8fb-a303-4a8b-b6a4-7ebb660416ea",
   "metadata": {},
   "outputs": [],
   "source": [
    "df.head(2)"
   ]
  },
  {
   "cell_type": "code",
   "execution_count": 3,
   "id": "dfa656b4-49c9-4651-ba05-504c21b6e3f8",
   "metadata": {},
   "outputs": [],
   "source": [
    "df = pd.read_excel(\"Temp_data.xlsx\",sheet_name=\"scoresaway\")"
   ]
  },
  {
   "cell_type": "code",
   "execution_count": 4,
   "id": "dcad234c-eec0-4aff-aed6-90a92dff7b02",
   "metadata": {},
   "outputs": [
    {
     "data": {
      "text/html": [
       "<div>\n",
       "<style scoped>\n",
       "    .dataframe tbody tr th:only-of-type {\n",
       "        vertical-align: middle;\n",
       "    }\n",
       "\n",
       "    .dataframe tbody tr th {\n",
       "        vertical-align: top;\n",
       "    }\n",
       "\n",
       "    .dataframe thead th {\n",
       "        text-align: right;\n",
       "    }\n",
       "</style>\n",
       "<table border=\"1\" class=\"dataframe\">\n",
       "  <thead>\n",
       "    <tr style=\"text-align: right;\">\n",
       "      <th></th>\n",
       "      <th>country</th>\n",
       "      <th>comp</th>\n",
       "      <th>url</th>\n",
       "    </tr>\n",
       "  </thead>\n",
       "  <tbody>\n",
       "    <tr>\n",
       "      <th>0</th>\n",
       "      <td>AFC</td>\n",
       "      <td>AFC Champions League Elite</td>\n",
       "      <td>https://www.scoresway.com/en_GB/soccer/afc-cha...</td>\n",
       "    </tr>\n",
       "    <tr>\n",
       "      <th>1</th>\n",
       "      <td>AFC</td>\n",
       "      <td>AFC Champions League Two</td>\n",
       "      <td>https://www.scoresway.com/en_GB/soccer/afc-cha...</td>\n",
       "    </tr>\n",
       "    <tr>\n",
       "      <th>2</th>\n",
       "      <td>AFC</td>\n",
       "      <td>AFC Challenge Cup</td>\n",
       "      <td>https://www.scoresway.com/en_GB/soccer/afc-cha...</td>\n",
       "    </tr>\n",
       "    <tr>\n",
       "      <th>3</th>\n",
       "      <td>Australia</td>\n",
       "      <td>A-League Men</td>\n",
       "      <td>https://www.scoresway.com/en_GB/soccer/a-leagu...</td>\n",
       "    </tr>\n",
       "    <tr>\n",
       "      <th>4</th>\n",
       "      <td>India</td>\n",
       "      <td>Indian Super League</td>\n",
       "      <td>https://www.scoresway.com/en_GB/soccer/indian-...</td>\n",
       "    </tr>\n",
       "    <tr>\n",
       "      <th>...</th>\n",
       "      <td>...</td>\n",
       "      <td>...</td>\n",
       "      <td>...</td>\n",
       "    </tr>\n",
       "    <tr>\n",
       "      <th>67</th>\n",
       "      <td>Colombia</td>\n",
       "      <td>Primera A</td>\n",
       "      <td>https://www.scoresway.com/en_GB/soccer/primera...</td>\n",
       "    </tr>\n",
       "    <tr>\n",
       "      <th>68</th>\n",
       "      <td>Ecuador</td>\n",
       "      <td>Liga Pro</td>\n",
       "      <td>https://www.scoresway.com/en_GB/soccer/liga-pr...</td>\n",
       "    </tr>\n",
       "    <tr>\n",
       "      <th>69</th>\n",
       "      <td>Paraguay</td>\n",
       "      <td>Division Profesional</td>\n",
       "      <td>https://www.scoresway.com/en_GB/soccer/divisio...</td>\n",
       "    </tr>\n",
       "    <tr>\n",
       "      <th>70</th>\n",
       "      <td>Peru</td>\n",
       "      <td>Liga 1</td>\n",
       "      <td>https://www.scoresway.com/en_GB/soccer/liga-1-...</td>\n",
       "    </tr>\n",
       "    <tr>\n",
       "      <th>71</th>\n",
       "      <td>Venezuela</td>\n",
       "      <td>Primera División</td>\n",
       "      <td>https://www.scoresway.com/en_GB/soccer/primera...</td>\n",
       "    </tr>\n",
       "  </tbody>\n",
       "</table>\n",
       "<p>72 rows × 3 columns</p>\n",
       "</div>"
      ],
      "text/plain": [
       "      country                        comp  \\\n",
       "0         AFC  AFC Champions League Elite   \n",
       "1         AFC    AFC Champions League Two   \n",
       "2         AFC           AFC Challenge Cup   \n",
       "3   Australia                A-League Men   \n",
       "4       India         Indian Super League   \n",
       "..        ...                         ...   \n",
       "67   Colombia                   Primera A   \n",
       "68    Ecuador                    Liga Pro   \n",
       "69   Paraguay        Division Profesional   \n",
       "70       Peru                      Liga 1   \n",
       "71  Venezuela            Primera División   \n",
       "\n",
       "                                                  url  \n",
       "0   https://www.scoresway.com/en_GB/soccer/afc-cha...  \n",
       "1   https://www.scoresway.com/en_GB/soccer/afc-cha...  \n",
       "2   https://www.scoresway.com/en_GB/soccer/afc-cha...  \n",
       "3   https://www.scoresway.com/en_GB/soccer/a-leagu...  \n",
       "4   https://www.scoresway.com/en_GB/soccer/indian-...  \n",
       "..                                                ...  \n",
       "67  https://www.scoresway.com/en_GB/soccer/primera...  \n",
       "68  https://www.scoresway.com/en_GB/soccer/liga-pr...  \n",
       "69  https://www.scoresway.com/en_GB/soccer/divisio...  \n",
       "70  https://www.scoresway.com/en_GB/soccer/liga-1-...  \n",
       "71  https://www.scoresway.com/en_GB/soccer/primera...  \n",
       "\n",
       "[72 rows x 3 columns]"
      ]
     },
     "execution_count": 4,
     "metadata": {},
     "output_type": "execute_result"
    }
   ],
   "source": [
    "df"
   ]
  },
  {
   "cell_type": "code",
   "execution_count": 11,
   "id": "0c27a139-36d2-4ca2-9eb2-a855b548761e",
   "metadata": {},
   "outputs": [],
   "source": [
    "for i,row in df.iterrows():\n",
    "    try:\n",
    "        comp_item = Competition.objects.get(\n",
    "                    country = row.get('country'),\n",
    "                    name_scoresaway = row.get('comp')\n",
    "        )\n",
    "        comp_item.event_data_url = row.get('url','')\n",
    "        comp_item.save()\n",
    "    except Exception as e :\n",
    "        print(\"Issue for \",row,e)"
   ]
  },
  {
   "cell_type": "code",
   "execution_count": null,
   "id": "6b561fb9-faff-4514-b56c-2278e34a197b",
   "metadata": {},
   "outputs": [],
   "source": []
  }
 ],
 "metadata": {
  "kernelspec": {
   "display_name": "Django Notebook",
   "language": "python",
   "name": "django_env"
  },
  "language_info": {
   "codemirror_mode": {
    "name": "ipython",
    "version": 3
   },
   "file_extension": ".py",
   "mimetype": "text/x-python",
   "name": "python",
   "nbconvert_exporter": "python",
   "pygments_lexer": "ipython3",
   "version": "3.10.11"
  }
 },
 "nbformat": 4,
 "nbformat_minor": 5
}
